{
  "cells": [
    {
      "cell_type": "code",
      "execution_count": 23,
      "metadata": {
        "id": "ooFj7KM8c-h3"
      },
      "outputs": [],
      "source": [
        "import torch\n",
        "import torch.nn as nn\n",
        "import torch.optim as optim\n",
        "from torchvision import datasets, transforms\n",
        "from torch.utils.data import DataLoader"
      ]
    },
    {
      "cell_type": "code",
      "execution_count": 24,
      "metadata": {},
      "outputs": [
        {
          "name": "stdout",
          "output_type": "stream",
          "text": [
            "CUDA disponível: True\n",
            "Versão do CUDA no PyTorch: 11.8\n",
            "Nome da GPU: NVIDIA GeForce GTX 1650\n"
          ]
        }
      ],
      "source": [
        "print(\"CUDA disponível:\", torch.cuda.is_available())\n",
        "print(\"Versão do CUDA no PyTorch:\", torch.version.cuda)\n",
        "print(\"Nome da GPU:\", torch.cuda.get_device_name(0) if torch.cuda.is_available() else \"Nenhuma GPU encontrada\")"
      ]
    },
    {
      "cell_type": "markdown",
      "metadata": {
        "id": "tniDeNBZgsUP"
      },
      "source": [
        "#Implementação AlexNet"
      ]
    },
    {
      "cell_type": "code",
      "execution_count": 25,
      "metadata": {
        "id": "UMQX2t1Bc_3k"
      },
      "outputs": [],
      "source": [
        "# Definição da rede AlexNet (para CIFAR-10, definindo num_classes=10)\n",
        "class AlexNet(nn.Module):\n",
        "    def __init__(self, num_classes=1000):\n",
        "        super(AlexNet, self).__init__()\n",
        "\n",
        "        # Camadas convolucionais (features)\n",
        "        # Note que usamos padding fixo de forma a simular o \"same\" do TensorFlow.\n",
        "        self.features = nn.Sequential(\n",
        "            nn.Conv2d(in_channels=3, out_channels=96, kernel_size=11, stride=4, padding=5),\n",
        "            nn.ReLU(inplace=True),\n",
        "            # Para pooling \"same\" em TF, usamos kernel=3, stride=2 e padding=1\n",
        "            nn.MaxPool2d(kernel_size=3, stride=2, padding=1),\n",
        "\n",
        "            nn.Conv2d(in_channels=96, out_channels=256, kernel_size=5, stride=1, padding=2),\n",
        "            nn.ReLU(inplace=True),\n",
        "            nn.MaxPool2d(kernel_size=3, stride=2, padding=1),\n",
        "\n",
        "            nn.Conv2d(in_channels=256, out_channels=384, kernel_size=3, stride=1, padding=1),\n",
        "            nn.ReLU(inplace=True),\n",
        "\n",
        "            nn.Conv2d(in_channels=384, out_channels=384, kernel_size=3, stride=1, padding=1),\n",
        "            nn.ReLU(inplace=True),\n",
        "\n",
        "            nn.Conv2d(in_channels=384, out_channels=256, kernel_size=3, stride=1, padding=1),\n",
        "            nn.ReLU(inplace=True),\n",
        "            nn.MaxPool2d(kernel_size=3, stride=2, padding=1)\n",
        "        )\n",
        "\n",
        "        # # Usamos um pooling adaptativo para garantir que, independente do tamanho de entrada,\n",
        "        # # a saída da parte convolucional terá tamanho fixo (6x6), como esperado pelo TF.\n",
        "        self.avgpool = nn.AdaptiveAvgPool2d((6, 6))\n",
        "\n",
        "        # Camadas totalmente conectadas (classifier)\n",
        "        self.classifier = nn.Sequential(\n",
        "            nn.Flatten(),\n",
        "            nn.Linear(256 * 6 * 6, 9216), nn.ReLU(inplace=True),\n",
        "            nn.Linear(9216, 4096), nn.ReLU(inplace=True),\n",
        "            nn.Dropout(p=0.5),\n",
        "            nn.Linear(4096, 4096), nn.ReLU(inplace=True),\n",
        "            nn.Dropout(p=0.5),\n",
        "            nn.Linear(4096, num_classes),\n",
        "            # nn.Softmax(dim=1)  # Atenção: normalmente a softmax é omitida quando se usa CrossEntropyLoss.\n",
        "        )\n",
        "\n",
        "    def forward(self, x):\n",
        "        x = self.features(x)\n",
        "        x = self.avgpool(x)\n",
        "        x = self.classifier(x)\n",
        "        return x"
      ]
    },
    {
      "cell_type": "markdown",
      "metadata": {
        "id": "l6NhvmiSgwIT"
      },
      "source": [
        "#Implementação VGG13"
      ]
    },
    {
      "cell_type": "code",
      "execution_count": 26,
      "metadata": {
        "id": "w2OhWIC2dC0P"
      },
      "outputs": [],
      "source": [
        "class VGG13(nn.Module):\n",
        "    def __init__(self, num_classes=1000):\n",
        "        super(VGG13, self).__init__()\n",
        "\n",
        "        # Bloco de extração de features (camadas convolucionais e pooling)\n",
        "        self.features = nn.Sequential(\n",
        "            # Bloco 1\n",
        "            nn.Conv2d(in_channels=3, out_channels=64, kernel_size=3, stride=1, padding=1),\n",
        "            nn.ReLU(inplace=True),\n",
        "            nn.Conv2d(in_channels=64, out_channels=64, kernel_size=3, stride=1, padding=1),\n",
        "            nn.ReLU(inplace=True),\n",
        "            nn.MaxPool2d(kernel_size=2, stride=2),\n",
        "\n",
        "            # Bloco 2\n",
        "            nn.Conv2d(in_channels=64, out_channels=128, kernel_size=3, stride=1, padding=1),\n",
        "            nn.ReLU(inplace=True),\n",
        "            nn.Conv2d(in_channels=128, out_channels=128, kernel_size=3, stride=1, padding=1),\n",
        "            nn.ReLU(inplace=True),\n",
        "            nn.MaxPool2d(kernel_size=2, stride=2),\n",
        "\n",
        "            # Bloco 3\n",
        "            nn.Conv2d(in_channels=128, out_channels=256, kernel_size=3, stride=1, padding=1),\n",
        "            nn.ReLU(inplace=True),\n",
        "            nn.Conv2d(in_channels=256, out_channels=256, kernel_size=3, stride=1, padding=1),\n",
        "            nn.ReLU(inplace=True),\n",
        "            nn.MaxPool2d(kernel_size=2, stride=2),\n",
        "\n",
        "            # Bloco 4\n",
        "            nn.Conv2d(in_channels=256, out_channels=512, kernel_size=3, stride=1, padding=1),\n",
        "            nn.ReLU(inplace=True),\n",
        "            nn.Conv2d(in_channels=512, out_channels=512, kernel_size=3, stride=1, padding=1),\n",
        "            nn.ReLU(inplace=True),\n",
        "            nn.MaxPool2d(kernel_size=2, stride=2),\n",
        "\n",
        "            # Bloco 5\n",
        "            nn.Conv2d(in_channels=512, out_channels=512, kernel_size=3, stride=1, padding=1),\n",
        "            nn.ReLU(inplace=True),\n",
        "            nn.Conv2d(in_channels=512, out_channels=512, kernel_size=3, stride=1, padding=1),\n",
        "            nn.ReLU(inplace=True),\n",
        "            nn.MaxPool2d(kernel_size=2, stride=2)\n",
        "        )\n",
        "\n",
        "        # Observação:\n",
        "        # Para uma imagem de entrada com tamanho (227, 227), após os 5 blocos de pooling (sem padding adicional),\n",
        "        # a dimensão espacial é reduzida para 7x7 (verificação: 227 -> 113 -> 56 -> 28 -> 14 -> 7).\n",
        "        # Assim, o tamanho do vetor flatten será 512 * 7 * 7 = 25088.\n",
        "        self.classifier = nn.Sequential(\n",
        "            nn.Flatten(),\n",
        "            nn.Linear(512 * 7 * 7, 4096),\n",
        "            nn.ReLU(inplace=True),\n",
        "            nn.Dropout(p=0.5),\n",
        "            nn.Linear(4096, 4096),\n",
        "            nn.ReLU(inplace=True),\n",
        "            nn.Dropout(p=0.5),\n",
        "            nn.Linear(4096, num_classes),\n",
        "            # Atenção: normalmente em PyTorch a camada final de softmax é omitida\n",
        "            # quando se utiliza nn.CrossEntropyLoss, pois esta loss já aplica log-softmax.\n",
        "            nn.Softmax(dim=1)\n",
        "        )\n",
        "\n",
        "    def forward(self, x):\n",
        "        x = self.features(x)\n",
        "        x = self.classifier(x)\n",
        "        return x"
      ]
    },
    {
      "cell_type": "code",
      "execution_count": 34,
      "metadata": {},
      "outputs": [],
      "source": [
        "# # Função de treinamento\n",
        "# def train(model, device, train_loader, optimizer, criterion, epoch):\n",
        "#     model.train()\n",
        "#     running_loss = 0.0\n",
        "#     correct = 0\n",
        "#     total = 0\n",
        "\n",
        "#     for batch_idx, (data, target) in enumerate(train_loader):\n",
        "#         data, target = data.to(device), target.to(device)\n",
        "#         optimizer.zero_grad()\n",
        "#         output = model(data)\n",
        "#         loss = criterion(output, target)\n",
        "#         loss.backward()\n",
        "#         optimizer.step()\n",
        "\n",
        "#         running_loss += loss.item() * data.size(0)\n",
        "#         # Predição: pegamos o índice com maior probabilidade\n",
        "#         _, predicted = torch.max(output, 1)\n",
        "#         total += target.size(0)\n",
        "#         correct += predicted.eq(target).sum().item()\n",
        "\n",
        "#     epoch_loss = running_loss / total\n",
        "#     epoch_acc = 100. * correct / total\n",
        "#     print(f\"Epoch {epoch}: Loss de Treino = {epoch_loss:.4f} | Acurácia de Treino = {epoch_acc:.2f}%\")\n",
        "#     return epoch_loss, epoch_acc\n",
        "\n",
        "from torch.cuda.amp import autocast, GradScaler  # AMP para treino acelerado na GPU\n",
        "\n",
        "# Função de treinamento otimizada\n",
        "def train(model, device, train_loader, optimizer, criterion, epoch, scaler):\n",
        "    model.train()\n",
        "    running_loss = 0.0\n",
        "    correct = 0\n",
        "    total = 0\n",
        "\n",
        "    for batch_idx, (data, target) in enumerate(train_loader):\n",
        "        data, target = data.to(device, non_blocking=True), target.to(device, non_blocking=True)\n",
        "\n",
        "        optimizer.zero_grad()\n",
        "\n",
        "        with torch.autocast('cuda'):\n",
        "            output = model(data)\n",
        "            loss = criterion(output, target)\n",
        "\n",
        "        scaler.scale(loss).backward()\n",
        "        scaler.step(optimizer)\n",
        "        scaler.update()\n",
        "\n",
        "        running_loss += loss.item() * data.size(0)\n",
        "        _, predicted = torch.max(output, 1)\n",
        "        total += target.size(0)\n",
        "        correct += predicted.eq(target).sum().item()\n",
        "\n",
        "    epoch_loss = running_loss / total\n",
        "    epoch_acc = 100. * correct / total\n",
        "    print(f\"Epoch {epoch}: Loss = {epoch_loss:.4f} | Acurácia = {epoch_acc:.2f}%\")\n",
        "\n",
        "    return epoch_loss, epoch_acc"
      ]
    },
    {
      "cell_type": "code",
      "execution_count": null,
      "metadata": {
        "id": "pjh1W1Snd-Lz"
      },
      "outputs": [],
      "source": [
        "# # Função de avaliação\n",
        "# def evaluate(model, device, test_loader, criterion):\n",
        "#     model.eval()\n",
        "#     test_loss = 0.0\n",
        "#     correct = 0\n",
        "#     total = 0\n",
        "\n",
        "#     with torch.no_grad():\n",
        "#         for data, target in test_loader:\n",
        "#             data, target = data.to(device), target.to(device)\n",
        "#             output = model(data)\n",
        "#             loss = criterion(output, target)\n",
        "#             test_loss += loss.item() * data.size(0)\n",
        "#             _, predicted = torch.max(output, 1)\n",
        "#             total += target.size(0)\n",
        "#             correct += predicted.eq(target).sum().item()\n",
        "\n",
        "#     avg_loss = test_loss / total\n",
        "#     acc = 100. * correct / total\n",
        "#     print(f\"Loss de Teste = {avg_loss:.4f} | Acurácia de Teste = {acc:.2f}%\")\n",
        "#     return avg_loss, acc"
      ]
    },
    {
      "cell_type": "code",
      "execution_count": 42,
      "metadata": {},
      "outputs": [],
      "source": [
        "import gc\n",
        "\n",
        "# Função de avaliação otimizada para reduzir consumo de memória\n",
        "def evaluate(model, device, test_loader, criterion):\n",
        "    model.eval()\n",
        "    test_loss = 0.0\n",
        "    correct = 0\n",
        "    total = 0\n",
        "\n",
        "    with torch.no_grad():\n",
        "        for data, target in test_loader:\n",
        "            data, target = data.to(device), target.to(device)\n",
        "\n",
        "            # Forward pass\n",
        "            output = model(data)\n",
        "            loss = criterion(output, target)\n",
        "\n",
        "            # Acumulando loss e acurácia\n",
        "            test_loss += loss.item() * data.size(0)\n",
        "            _, predicted = torch.max(output, 1)\n",
        "\n",
        "            # Movendo para CPU antes de calcular acertos para evitar acumular na GPU\n",
        "            predicted = predicted.cpu()\n",
        "            target = target.cpu()\n",
        "            correct += predicted.eq(target).sum().item()\n",
        "            total += target.size(0)\n",
        "\n",
        "    # Cálculo de loss e acurácia\n",
        "    avg_loss = test_loss / total\n",
        "    acc = 100. * correct / total\n",
        "\n",
        "    # Limpeza de memória\n",
        "    del data, target, output, loss, predicted\n",
        "    gc.collect()\n",
        "    torch.cuda.empty_cache()\n",
        "\n",
        "    print(f\"Loss de Teste = {avg_loss:.4f} | Acurácia de Teste = {acc:.2f}%\")\n",
        "    return avg_loss, acc"
      ]
    },
    {
      "cell_type": "markdown",
      "metadata": {
        "id": "FV6f-3Qje_XM"
      },
      "source": [
        "# Treino AlexNet\n"
      ]
    },
    {
      "cell_type": "markdown",
      "metadata": {
        "id": "O76tFYWsfMiE"
      },
      "source": [
        "## Teste 1\n",
        "batch_size = 64<p>\n",
        "learning_rate = 0.001<p>\n",
        "num_epochs = 20"
      ]
    },
    {
      "cell_type": "code",
      "execution_count": 1,
      "metadata": {
        "colab": {
          "base_uri": "https://localhost:8080/"
        },
        "id": "9qOe1JLHLSot",
        "outputId": "bfc746b8-1670-4a48-db9d-cf516d014b66"
      },
      "outputs": [
        {
          "name": "stdout",
          "output_type": "stream",
          "text": [
            "Usando device: cuda\n",
            "Downloading https://www.cs.toronto.edu/~kriz/cifar-10-python.tar.gz to ./data/cifar-10-python.tar.gz\n"
          ]
        },
        {
          "name": "stderr",
          "output_type": "stream",
          "text": [
            "100%|██████████| 170M/170M [00:07<00:00, 23.7MB/s]\n"
          ]
        },
        {
          "name": "stdout",
          "output_type": "stream",
          "text": [
            "Extracting ./data/cifar-10-python.tar.gz to ./data\n",
            "Files already downloaded and verified\n",
            "Epoch 1: Loss de Treino = 1.8911 | Acurácia de Treino = 28.66%\n",
            "Loss de Teste = 1.5393 | Acurácia de Teste = 41.66%\n",
            "Epoch 2: Loss de Treino = 1.4958 | Acurácia de Treino = 45.33%\n",
            "Loss de Teste = 1.3502 | Acurácia de Teste = 51.10%\n",
            "Epoch 3: Loss de Treino = 1.3537 | Acurácia de Treino = 51.44%\n",
            "Loss de Teste = 1.3032 | Acurácia de Teste = 52.77%\n",
            "Epoch 4: Loss de Treino = 1.2533 | Acurácia de Treino = 55.56%\n",
            "Loss de Teste = 1.2522 | Acurácia de Teste = 55.71%\n",
            "Epoch 5: Loss de Treino = 1.1792 | Acurácia de Treino = 58.18%\n",
            "Loss de Teste = 1.1751 | Acurácia de Teste = 58.12%\n",
            "Epoch 6: Loss de Treino = 1.1112 | Acurácia de Treino = 60.95%\n",
            "Loss de Teste = 1.1626 | Acurácia de Teste = 58.22%\n",
            "Epoch 7: Loss de Treino = 1.0558 | Acurácia de Treino = 62.99%\n",
            "Loss de Teste = 1.1322 | Acurácia de Teste = 60.26%\n",
            "Epoch 8: Loss de Treino = 1.0150 | Acurácia de Treino = 64.24%\n",
            "Loss de Teste = 1.1253 | Acurácia de Teste = 60.68%\n",
            "Epoch 9: Loss de Treino = 0.9620 | Acurácia de Treino = 66.10%\n",
            "Loss de Teste = 1.0936 | Acurácia de Teste = 61.59%\n",
            "Epoch 10: Loss de Treino = 0.9121 | Acurácia de Treino = 68.04%\n",
            "Loss de Teste = 1.0675 | Acurácia de Teste = 62.76%\n",
            "Epoch 11: Loss de Treino = 0.8624 | Acurácia de Treino = 69.82%\n",
            "Loss de Teste = 1.0824 | Acurácia de Teste = 63.16%\n",
            "Epoch 12: Loss de Treino = 0.8213 | Acurácia de Treino = 71.42%\n",
            "Loss de Teste = 1.1484 | Acurácia de Teste = 61.39%\n",
            "Epoch 13: Loss de Treino = 0.7722 | Acurácia de Treino = 73.22%\n",
            "Loss de Teste = 1.1246 | Acurácia de Teste = 62.35%\n",
            "Epoch 14: Loss de Treino = 0.7313 | Acurácia de Treino = 74.55%\n",
            "Loss de Teste = 1.1448 | Acurácia de Teste = 63.15%\n",
            "Epoch 15: Loss de Treino = 0.6927 | Acurácia de Treino = 75.95%\n",
            "Loss de Teste = 1.1642 | Acurácia de Teste = 60.96%\n",
            "Epoch 16: Loss de Treino = 0.6566 | Acurácia de Treino = 77.48%\n",
            "Loss de Teste = 1.1357 | Acurácia de Teste = 63.39%\n",
            "Epoch 17: Loss de Treino = 0.6114 | Acurácia de Treino = 79.11%\n",
            "Loss de Teste = 1.1702 | Acurácia de Teste = 63.22%\n",
            "Epoch 18: Loss de Treino = 0.5699 | Acurácia de Treino = 80.71%\n",
            "Loss de Teste = 1.2304 | Acurácia de Teste = 63.04%\n",
            "Epoch 19: Loss de Treino = 0.5231 | Acurácia de Treino = 82.17%\n",
            "Loss de Teste = 1.2252 | Acurácia de Teste = 62.47%\n",
            "Epoch 20: Loss de Treino = 0.5093 | Acurácia de Treino = 82.82%\n",
            "Loss de Teste = 1.1823 | Acurácia de Teste = 63.26%\n",
            "Melhor acurácia no teste: 63.39%\n"
          ]
        }
      ],
      "source": [
        "# Configurações e hiperparâmetros\n",
        "batch_size = 64\n",
        "learning_rate = 0.001\n",
        "num_epochs = 20\n",
        "\n",
        "device = torch.device(\"cuda\" if torch.cuda.is_available() else \"cpu\")\n",
        "print(\"Usando device:\", device)\n",
        "\n",
        "# Transformações para as imagens: redimensiona para 227x227, converte para tensor e normaliza.\n",
        "transform = transforms.Compose([\n",
        "    transforms.Resize((227, 227)),  # CIFAR-10 originalmente tem 32x32\n",
        "    transforms.ToTensor(),\n",
        "    transforms.Normalize((0.5, 0.5, 0.5), (0.5, 0.5, 0.5))\n",
        "])\n",
        "\n",
        "# Carrega os datasets de treino e teste do CIFAR-10\n",
        "train_dataset = datasets.CIFAR10(root='./data', train=True, download=True, transform=transform)\n",
        "test_dataset = datasets.CIFAR10(root='./data', train=False, download=True, transform=transform)\n",
        "\n",
        "train_loader = DataLoader(train_dataset, batch_size=batch_size, shuffle=True, num_workers=2)\n",
        "test_loader = DataLoader(test_dataset, batch_size=batch_size, shuffle=False, num_workers=2)\n",
        "\n",
        "# Instancia o modelo e move para o device\n",
        "model = AlexNet(num_classes=10)\n",
        "model.to(device)\n",
        "\n",
        "# Define a função de perda e o otimizador\n",
        "# Se optar por manter a camada Softmax final, talvez seja necessário usar outra loss,\n",
        "# mas o mais comum é remover a Softmax e usar nn.CrossEntropyLoss.\n",
        "criterion = nn.CrossEntropyLoss()\n",
        "optimizer = optim.Adam(model.parameters(), lr=learning_rate)\n",
        "\n",
        "best_test_acc = 0.0\n",
        "for epoch in range(1, num_epochs + 1):\n",
        "    train_loss, train_acc = train(model, device, train_loader, optimizer, criterion, epoch)\n",
        "    test_loss, test_acc = evaluate(model, device, test_loader, criterion)\n",
        "    if test_acc > best_test_acc:\n",
        "        best_test_acc = test_acc\n",
        "        # Salva o modelo com melhor desempenho\n",
        "        torch.save(model.state_dict(), \"best_alexnet_cifar10.pth\")\n",
        "print(\"Melhor acurácia no teste: {:.2f}%\".format(best_test_acc))\n"
      ]
    },
    {
      "cell_type": "markdown",
      "metadata": {
        "id": "HiF-s-S5fTYY"
      },
      "source": [
        "## Teste 2\n",
        "batch_size = 256<p>\n",
        "learning_rate = 0.001<p>\n",
        "num_epochs = 20"
      ]
    },
    {
      "cell_type": "code",
      "execution_count": 43,
      "metadata": {},
      "outputs": [
        {
          "name": "stdout",
          "output_type": "stream",
          "text": [
            "Usando device: cuda\n"
          ]
        }
      ],
      "source": [
        "# Configurações e hiperparâmetros\n",
        "batch_size = 32\n",
        "learning_rate = 0.001\n",
        "num_epochs = 20\n",
        "\n",
        "device = torch.device(\"cuda\" if torch.cuda.is_available() else \"cpu\")\n",
        "print(\"Usando device:\", device)\n",
        "\n",
        "# Transformações para as imagens: redimensiona para 227x227, converte para tensor e normaliza.\n",
        "transform = transforms.Compose([\n",
        "    transforms.Resize((227, 227)),  # CIFAR-10 originalmente tem 32x32\n",
        "    transforms.ToTensor(),\n",
        "    transforms.Normalize((0.5, 0.5, 0.5), (0.5, 0.5, 0.5))\n",
        "])\n",
        "\n",
        "# Carrega os datasets de treino e teste do CIFAR-10\n",
        "train_dataset = datasets.CIFAR10(root='./data', train=True, download=True, transform=transform)\n",
        "test_dataset = datasets.CIFAR10(root='./data', train=False, download=True, transform=transform)\n",
        "\n",
        "# usar ou n esse pin_memory?\n",
        "# train_loader = DataLoader(train_dataset, batch_size=batch_size, shuffle=True, num_workers=0, pin_memory=True)\n",
        "# test_loader = DataLoader(test_dataset, batch_size=batch_size, shuffle=False, num_workers=0, pin_memory=True)\n",
        "train_loader = DataLoader(train_dataset, batch_size=batch_size, shuffle=True, num_workers=0)\n",
        "test_loader = DataLoader(test_dataset, batch_size=batch_size, shuffle=False, num_workers=0)"
      ]
    },
    {
      "cell_type": "code",
      "execution_count": 47,
      "metadata": {},
      "outputs": [
        {
          "name": "stdout",
          "output_type": "stream",
          "text": [
            "|===========================================================================|\n",
            "|                  PyTorch CUDA memory summary, device ID 0                 |\n",
            "|---------------------------------------------------------------------------|\n",
            "|            CUDA OOMs: 2            |        cudaMalloc retries: 4         |\n",
            "|===========================================================================|\n",
            "|        Metric         | Cur Usage  | Peak Usage | Tot Alloc  | Tot Freed  |\n",
            "|---------------------------------------------------------------------------|\n",
            "| Allocated memory      |   6891 MiB |   6891 MiB |   7823 GiB |   7816 GiB |\n",
            "|       from large pool |   6885 MiB |   6885 MiB |   7817 GiB |   7810 GiB |\n",
            "|       from small pool |      6 MiB |      7 MiB |      5 GiB |      5 GiB |\n",
            "|---------------------------------------------------------------------------|\n",
            "| Active memory         |   6891 MiB |   6891 MiB |   7823 GiB |   7816 GiB |\n",
            "|       from large pool |   6885 MiB |   6885 MiB |   7817 GiB |   7810 GiB |\n",
            "|       from small pool |      6 MiB |      7 MiB |      5 GiB |      5 GiB |\n",
            "|---------------------------------------------------------------------------|\n",
            "| Requested memory      |   6886 MiB |   6886 MiB |   7818 GiB |   7812 GiB |\n",
            "|       from large pool |   6879 MiB |   6879 MiB |   7812 GiB |   7806 GiB |\n",
            "|       from small pool |      6 MiB |      7 MiB |      5 GiB |      5 GiB |\n",
            "|---------------------------------------------------------------------------|\n",
            "| GPU reserved memory   |   6912 MiB |   6912 MiB |   7350 MiB | 448512 KiB |\n",
            "|       from large pool |   6904 MiB |   6904 MiB |   7338 MiB | 444416 KiB |\n",
            "|       from small pool |      8 MiB |      8 MiB |     12 MiB |   4096 KiB |\n",
            "|---------------------------------------------------------------------------|\n",
            "| Non-releasable memory |  20816 KiB |   1610 MiB |   5188 GiB |   5188 GiB |\n",
            "|       from large pool |  19119 KiB |   1609 MiB |   5183 GiB |   5182 GiB |\n",
            "|       from small pool |   1696 KiB |      2 MiB |      5 GiB |      5 GiB |\n",
            "|---------------------------------------------------------------------------|\n",
            "| Allocations           |     254    |     254    |   83944    |   83690    |\n",
            "|       from large pool |     107    |     107    |   50473    |   50366    |\n",
            "|       from small pool |     147    |     148    |   33471    |   33324    |\n",
            "|---------------------------------------------------------------------------|\n",
            "| Active allocs         |     254    |     254    |   83944    |   83690    |\n",
            "|       from large pool |     107    |     107    |   50473    |   50366    |\n",
            "|       from small pool |     147    |     148    |   33471    |   33324    |\n",
            "|---------------------------------------------------------------------------|\n",
            "| GPU reserved segments |      29    |      29    |      36    |       7    |\n",
            "|       from large pool |      25    |      25    |      30    |       5    |\n",
            "|       from small pool |       4    |       4    |       6    |       2    |\n",
            "|---------------------------------------------------------------------------|\n",
            "| Non-releasable allocs |      12    |      27    |   27390    |   27378    |\n",
            "|       from large pool |       8    |      17    |   13898    |   13890    |\n",
            "|       from small pool |       4    |      11    |   13492    |   13488    |\n",
            "|---------------------------------------------------------------------------|\n",
            "| Oversize allocations  |       0    |       0    |       0    |       0    |\n",
            "|---------------------------------------------------------------------------|\n",
            "| Oversize GPU segments |       0    |       0    |       0    |       0    |\n",
            "|===========================================================================|\n",
            "\n"
          ]
        }
      ],
      "source": [
        "print(torch.cuda.memory_summary(device=None, abbreviated=False))"
      ]
    },
    {
      "cell_type": "code",
      "execution_count": 48,
      "metadata": {},
      "outputs": [],
      "source": [
        "torch.cuda.empty_cache()"
      ]
    },
    {
      "cell_type": "code",
      "execution_count": 49,
      "metadata": {
        "colab": {
          "base_uri": "https://localhost:8080/"
        },
        "id": "sqfGlJiIfTYZ",
        "outputId": "fb67ab8d-72bb-4686-8489-a5233c5ab7a5"
      },
      "outputs": [
        {
          "ename": "OutOfMemoryError",
          "evalue": "CUDA out of memory. Tried to allocate 20.00 MiB. GPU 0 has a total capacity of 4.00 GiB of which 0 bytes is free. Of the allocated memory 6.74 GiB is allocated by PyTorch, and 14.47 MiB is reserved by PyTorch but unallocated. If reserved but unallocated memory is large try setting PYTORCH_CUDA_ALLOC_CONF=expandable_segments:True to avoid fragmentation.  See documentation for Memory Management  (https://pytorch.org/docs/stable/notes/cuda.html#environment-variables)",
          "output_type": "error",
          "traceback": [
            "\u001b[31m---------------------------------------------------------------------------\u001b[39m",
            "\u001b[31mOutOfMemoryError\u001b[39m                          Traceback (most recent call last)",
            "\u001b[36mCell\u001b[39m\u001b[36m \u001b[39m\u001b[32mIn[49]\u001b[39m\u001b[32m, line 3\u001b[39m\n\u001b[32m      1\u001b[39m \u001b[38;5;66;03m# Instancia o modelo e move para o device\u001b[39;00m\n\u001b[32m      2\u001b[39m model = AlexNet(num_classes=\u001b[32m10\u001b[39m)\n\u001b[32m----> \u001b[39m\u001b[32m3\u001b[39m \u001b[43mmodel\u001b[49m\u001b[43m.\u001b[49m\u001b[43mto\u001b[49m\u001b[43m(\u001b[49m\u001b[43mdevice\u001b[49m\u001b[43m)\u001b[49m\n\u001b[32m      5\u001b[39m \u001b[38;5;66;03m# Define a função de perda e o otimizador\u001b[39;00m\n\u001b[32m      6\u001b[39m \u001b[38;5;66;03m# Se optar por manter a camada Softmax final, talvez seja necessário usar outra loss,\u001b[39;00m\n\u001b[32m      7\u001b[39m \u001b[38;5;66;03m# mas o mais comum é remover a Softmax e usar nn.CrossEntropyLoss.\u001b[39;00m\n\u001b[32m      8\u001b[39m criterion = nn.CrossEntropyLoss()\n",
            "\u001b[36mFile \u001b[39m\u001b[32mc:\\Users\\Gabriel\\OneDrive\\Documentos\\Livros\\VC\\TrabalhoVisaoComputacional\\venv\\Lib\\site-packages\\torch\\nn\\modules\\module.py:1343\u001b[39m, in \u001b[36mModule.to\u001b[39m\u001b[34m(self, *args, **kwargs)\u001b[39m\n\u001b[32m   1340\u001b[39m         \u001b[38;5;28;01melse\u001b[39;00m:\n\u001b[32m   1341\u001b[39m             \u001b[38;5;28;01mraise\u001b[39;00m\n\u001b[32m-> \u001b[39m\u001b[32m1343\u001b[39m \u001b[38;5;28;01mreturn\u001b[39;00m \u001b[38;5;28;43mself\u001b[39;49m\u001b[43m.\u001b[49m\u001b[43m_apply\u001b[49m\u001b[43m(\u001b[49m\u001b[43mconvert\u001b[49m\u001b[43m)\u001b[49m\n",
            "\u001b[36mFile \u001b[39m\u001b[32mc:\\Users\\Gabriel\\OneDrive\\Documentos\\Livros\\VC\\TrabalhoVisaoComputacional\\venv\\Lib\\site-packages\\torch\\nn\\modules\\module.py:903\u001b[39m, in \u001b[36mModule._apply\u001b[39m\u001b[34m(self, fn, recurse)\u001b[39m\n\u001b[32m    901\u001b[39m \u001b[38;5;28;01mif\u001b[39;00m recurse:\n\u001b[32m    902\u001b[39m     \u001b[38;5;28;01mfor\u001b[39;00m module \u001b[38;5;129;01min\u001b[39;00m \u001b[38;5;28mself\u001b[39m.children():\n\u001b[32m--> \u001b[39m\u001b[32m903\u001b[39m         \u001b[43mmodule\u001b[49m\u001b[43m.\u001b[49m\u001b[43m_apply\u001b[49m\u001b[43m(\u001b[49m\u001b[43mfn\u001b[49m\u001b[43m)\u001b[49m\n\u001b[32m    905\u001b[39m \u001b[38;5;28;01mdef\u001b[39;00m\u001b[38;5;250m \u001b[39m\u001b[34mcompute_should_use_set_data\u001b[39m(tensor, tensor_applied):\n\u001b[32m    906\u001b[39m     \u001b[38;5;28;01mif\u001b[39;00m torch._has_compatible_shallow_copy_type(tensor, tensor_applied):\n\u001b[32m    907\u001b[39m         \u001b[38;5;66;03m# If the new tensor has compatible tensor type as the existing tensor,\u001b[39;00m\n\u001b[32m    908\u001b[39m         \u001b[38;5;66;03m# the current behavior is to change the tensor in-place using `.data =`,\u001b[39;00m\n\u001b[32m   (...)\u001b[39m\u001b[32m    913\u001b[39m         \u001b[38;5;66;03m# global flag to let the user control whether they want the future\u001b[39;00m\n\u001b[32m    914\u001b[39m         \u001b[38;5;66;03m# behavior of overwriting the existing tensor or not.\u001b[39;00m\n",
            "\u001b[36mFile \u001b[39m\u001b[32mc:\\Users\\Gabriel\\OneDrive\\Documentos\\Livros\\VC\\TrabalhoVisaoComputacional\\venv\\Lib\\site-packages\\torch\\nn\\modules\\module.py:903\u001b[39m, in \u001b[36mModule._apply\u001b[39m\u001b[34m(self, fn, recurse)\u001b[39m\n\u001b[32m    901\u001b[39m \u001b[38;5;28;01mif\u001b[39;00m recurse:\n\u001b[32m    902\u001b[39m     \u001b[38;5;28;01mfor\u001b[39;00m module \u001b[38;5;129;01min\u001b[39;00m \u001b[38;5;28mself\u001b[39m.children():\n\u001b[32m--> \u001b[39m\u001b[32m903\u001b[39m         \u001b[43mmodule\u001b[49m\u001b[43m.\u001b[49m\u001b[43m_apply\u001b[49m\u001b[43m(\u001b[49m\u001b[43mfn\u001b[49m\u001b[43m)\u001b[49m\n\u001b[32m    905\u001b[39m \u001b[38;5;28;01mdef\u001b[39;00m\u001b[38;5;250m \u001b[39m\u001b[34mcompute_should_use_set_data\u001b[39m(tensor, tensor_applied):\n\u001b[32m    906\u001b[39m     \u001b[38;5;28;01mif\u001b[39;00m torch._has_compatible_shallow_copy_type(tensor, tensor_applied):\n\u001b[32m    907\u001b[39m         \u001b[38;5;66;03m# If the new tensor has compatible tensor type as the existing tensor,\u001b[39;00m\n\u001b[32m    908\u001b[39m         \u001b[38;5;66;03m# the current behavior is to change the tensor in-place using `.data =`,\u001b[39;00m\n\u001b[32m   (...)\u001b[39m\u001b[32m    913\u001b[39m         \u001b[38;5;66;03m# global flag to let the user control whether they want the future\u001b[39;00m\n\u001b[32m    914\u001b[39m         \u001b[38;5;66;03m# behavior of overwriting the existing tensor or not.\u001b[39;00m\n",
            "\u001b[36mFile \u001b[39m\u001b[32mc:\\Users\\Gabriel\\OneDrive\\Documentos\\Livros\\VC\\TrabalhoVisaoComputacional\\venv\\Lib\\site-packages\\torch\\nn\\modules\\module.py:930\u001b[39m, in \u001b[36mModule._apply\u001b[39m\u001b[34m(self, fn, recurse)\u001b[39m\n\u001b[32m    926\u001b[39m \u001b[38;5;66;03m# Tensors stored in modules are graph leaves, and we don't want to\u001b[39;00m\n\u001b[32m    927\u001b[39m \u001b[38;5;66;03m# track autograd history of `param_applied`, so we have to use\u001b[39;00m\n\u001b[32m    928\u001b[39m \u001b[38;5;66;03m# `with torch.no_grad():`\u001b[39;00m\n\u001b[32m    929\u001b[39m \u001b[38;5;28;01mwith\u001b[39;00m torch.no_grad():\n\u001b[32m--> \u001b[39m\u001b[32m930\u001b[39m     param_applied = \u001b[43mfn\u001b[49m\u001b[43m(\u001b[49m\u001b[43mparam\u001b[49m\u001b[43m)\u001b[49m\n\u001b[32m    931\u001b[39m p_should_use_set_data = compute_should_use_set_data(param, param_applied)\n\u001b[32m    933\u001b[39m \u001b[38;5;66;03m# subclasses may have multiple child tensors so we need to use swap_tensors\u001b[39;00m\n",
            "\u001b[36mFile \u001b[39m\u001b[32mc:\\Users\\Gabriel\\OneDrive\\Documentos\\Livros\\VC\\TrabalhoVisaoComputacional\\venv\\Lib\\site-packages\\torch\\nn\\modules\\module.py:1329\u001b[39m, in \u001b[36mModule.to.<locals>.convert\u001b[39m\u001b[34m(t)\u001b[39m\n\u001b[32m   1322\u001b[39m     \u001b[38;5;28;01mif\u001b[39;00m convert_to_format \u001b[38;5;129;01mis\u001b[39;00m \u001b[38;5;129;01mnot\u001b[39;00m \u001b[38;5;28;01mNone\u001b[39;00m \u001b[38;5;129;01mand\u001b[39;00m t.dim() \u001b[38;5;129;01min\u001b[39;00m (\u001b[32m4\u001b[39m, \u001b[32m5\u001b[39m):\n\u001b[32m   1323\u001b[39m         \u001b[38;5;28;01mreturn\u001b[39;00m t.to(\n\u001b[32m   1324\u001b[39m             device,\n\u001b[32m   1325\u001b[39m             dtype \u001b[38;5;28;01mif\u001b[39;00m t.is_floating_point() \u001b[38;5;129;01mor\u001b[39;00m t.is_complex() \u001b[38;5;28;01melse\u001b[39;00m \u001b[38;5;28;01mNone\u001b[39;00m,\n\u001b[32m   1326\u001b[39m             non_blocking,\n\u001b[32m   1327\u001b[39m             memory_format=convert_to_format,\n\u001b[32m   1328\u001b[39m         )\n\u001b[32m-> \u001b[39m\u001b[32m1329\u001b[39m     \u001b[38;5;28;01mreturn\u001b[39;00m \u001b[43mt\u001b[49m\u001b[43m.\u001b[49m\u001b[43mto\u001b[49m\u001b[43m(\u001b[49m\n\u001b[32m   1330\u001b[39m \u001b[43m        \u001b[49m\u001b[43mdevice\u001b[49m\u001b[43m,\u001b[49m\n\u001b[32m   1331\u001b[39m \u001b[43m        \u001b[49m\u001b[43mdtype\u001b[49m\u001b[43m \u001b[49m\u001b[38;5;28;43;01mif\u001b[39;49;00m\u001b[43m \u001b[49m\u001b[43mt\u001b[49m\u001b[43m.\u001b[49m\u001b[43mis_floating_point\u001b[49m\u001b[43m(\u001b[49m\u001b[43m)\u001b[49m\u001b[43m \u001b[49m\u001b[38;5;129;43;01mor\u001b[39;49;00m\u001b[43m \u001b[49m\u001b[43mt\u001b[49m\u001b[43m.\u001b[49m\u001b[43mis_complex\u001b[49m\u001b[43m(\u001b[49m\u001b[43m)\u001b[49m\u001b[43m \u001b[49m\u001b[38;5;28;43;01melse\u001b[39;49;00m\u001b[43m \u001b[49m\u001b[38;5;28;43;01mNone\u001b[39;49;00m\u001b[43m,\u001b[49m\n\u001b[32m   1332\u001b[39m \u001b[43m        \u001b[49m\u001b[43mnon_blocking\u001b[49m\u001b[43m,\u001b[49m\n\u001b[32m   1333\u001b[39m \u001b[43m    \u001b[49m\u001b[43m)\u001b[49m\n\u001b[32m   1334\u001b[39m \u001b[38;5;28;01mexcept\u001b[39;00m \u001b[38;5;167;01mNotImplementedError\u001b[39;00m \u001b[38;5;28;01mas\u001b[39;00m e:\n\u001b[32m   1335\u001b[39m     \u001b[38;5;28;01mif\u001b[39;00m \u001b[38;5;28mstr\u001b[39m(e) == \u001b[33m\"\u001b[39m\u001b[33mCannot copy out of meta tensor; no data!\u001b[39m\u001b[33m\"\u001b[39m:\n",
            "\u001b[31mOutOfMemoryError\u001b[39m: CUDA out of memory. Tried to allocate 20.00 MiB. GPU 0 has a total capacity of 4.00 GiB of which 0 bytes is free. Of the allocated memory 6.74 GiB is allocated by PyTorch, and 14.47 MiB is reserved by PyTorch but unallocated. If reserved but unallocated memory is large try setting PYTORCH_CUDA_ALLOC_CONF=expandable_segments:True to avoid fragmentation.  See documentation for Memory Management  (https://pytorch.org/docs/stable/notes/cuda.html#environment-variables)"
          ]
        }
      ],
      "source": [
        "# Instancia o modelo e move para o device\n",
        "model = AlexNet(num_classes=10)\n",
        "model.to(device)\n",
        "\n",
        "# Define a função de perda e o otimizador\n",
        "# Se optar por manter a camada Softmax final, talvez seja necessário usar outra loss,\n",
        "# mas o mais comum é remover a Softmax e usar nn.CrossEntropyLoss.\n",
        "criterion = nn.CrossEntropyLoss()\n",
        "optimizer = optim.Adam(model.parameters(), lr=learning_rate)\n",
        "\n",
        "scaler = torch.amp.GradScaler()\n",
        "\n",
        "best_test_acc = 0.0\n",
        "for epoch in range(1, num_epochs + 1):\n",
        "    torch.cuda.empty_cache()\n",
        "    train_loss, train_acc = train(model, device, train_loader, optimizer, criterion, epoch, scaler)\n",
        "    test_loss, test_acc = evaluate(model, device, test_loader, criterion)\n",
        "    if test_acc > best_test_acc:\n",
        "        best_test_acc = test_acc\n",
        "        # Salva o modelo com melhor desempenho\n",
        "        torch.save(model.state_dict(), \"best_alexnet_cifar10.pth\")\n",
        "print(\"Melhor acurácia no teste: {:.2f}%\".format(best_test_acc))\n"
      ]
    },
    {
      "cell_type": "markdown",
      "metadata": {
        "id": "hIJFegyTgdTw"
      },
      "source": [
        "##Treino VGG13\n"
      ]
    },
    {
      "cell_type": "markdown",
      "metadata": {
        "id": "fdJ9A4-GgdTx"
      },
      "source": [
        "### Teste 1\n",
        "batch_size = 64<p>\n",
        "learning_rate = 0.001<p>\n",
        "num_epochs = 20"
      ]
    },
    {
      "cell_type": "code",
      "execution_count": null,
      "metadata": {
        "id": "hvzNorFggdTx"
      },
      "outputs": [],
      "source": [
        "# Configurações e hiperparâmetros\n",
        "batch_size = 64\n",
        "learning_rate = 0.001\n",
        "num_epochs = 20\n",
        "\n",
        "device = torch.device(\"cuda\" if torch.cuda.is_available() else \"cpu\")\n",
        "print(\"Usando device:\", device)\n",
        "\n",
        "# Transformações para as imagens: redimensiona para 227x227, converte para tensor e normaliza.\n",
        "transform = transforms.Compose([\n",
        "    transforms.Resize((227, 227)),  # CIFAR-10 originalmente tem 32x32\n",
        "    transforms.ToTensor(),\n",
        "    transforms.Normalize((0.5, 0.5, 0.5), (0.5, 0.5, 0.5))\n",
        "])\n",
        "\n",
        "# Carrega os datasets de treino e teste do CIFAR-10\n",
        "train_dataset = datasets.CIFAR10(root='./data', train=True, download=True, transform=transform)\n",
        "test_dataset = datasets.CIFAR10(root='./data', train=False, download=True, transform=transform)\n",
        "\n",
        "train_loader = DataLoader(train_dataset, batch_size=batch_size, shuffle=True, num_workers=2)\n",
        "test_loader = DataLoader(test_dataset, batch_size=batch_size, shuffle=False, num_workers=2)\n",
        "\n",
        "# Instancia o modelo e move para o device\n",
        "model = VGG13(num_classes=10)\n",
        "model.to(device)\n",
        "\n",
        "# Define a função de perda e o otimizador\n",
        "# Se optar por manter a camada Softmax final, talvez seja necessário usar outra loss,\n",
        "# mas o mais comum é remover a Softmax e usar nn.CrossEntropyLoss.\n",
        "criterion = nn.CrossEntropyLoss()\n",
        "optimizer = optim.Adam(model.parameters(), lr=learning_rate)\n",
        "\n",
        "best_test_acc = 0.0\n",
        "for epoch in range(1, num_epochs + 1):\n",
        "    train_loss, train_acc = train(model, device, train_loader, optimizer, criterion, epoch)\n",
        "    test_loss, test_acc = evaluate(model, device, test_loader, criterion)\n",
        "    if test_acc > best_test_acc:\n",
        "        best_test_acc = test_acc\n",
        "        # Salva o modelo com melhor desempenho\n",
        "        torch.save(model.state_dict(), \"best_alexnet_cifar10.pth\")\n",
        "print(\"Melhor acurácia no teste: {:.2f}%\".format(best_test_acc))\n"
      ]
    },
    {
      "cell_type": "markdown",
      "metadata": {
        "id": "QjhTEBcjgdTx"
      },
      "source": [
        "### Teste 2\n",
        "batch_size = 256<p>\n",
        "learning_rate = 0.001<p>\n",
        "num_epochs = 20"
      ]
    },
    {
      "cell_type": "code",
      "execution_count": null,
      "metadata": {
        "id": "1P_4Jf28gdTy"
      },
      "outputs": [],
      "source": [
        "# Configurações e hiperparâmetros\n",
        "batch_size = 256\n",
        "learning_rate = 0.001\n",
        "num_epochs = 20\n",
        "\n",
        "device = torch.device(\"cuda\" if torch.cuda.is_available() else \"cpu\")\n",
        "print(\"Usando device:\", device)\n",
        "\n",
        "# Transformações para as imagens: redimensiona para 227x227, converte para tensor e normaliza.\n",
        "transform = transforms.Compose([\n",
        "    transforms.Resize((227, 227)),  # CIFAR-10 originalmente tem 32x32\n",
        "    transforms.ToTensor(),\n",
        "    transforms.Normalize((0.5, 0.5, 0.5), (0.5, 0.5, 0.5))\n",
        "])\n",
        "\n",
        "# Carrega os datasets de treino e teste do CIFAR-10\n",
        "train_dataset = datasets.CIFAR10(root='./data', train=True, download=True, transform=transform)\n",
        "test_dataset = datasets.CIFAR10(root='./data', train=False, download=True, transform=transform)\n",
        "\n",
        "train_loader = DataLoader(train_dataset, batch_size=batch_size, shuffle=True, num_workers=2)\n",
        "test_loader = DataLoader(test_dataset, batch_size=batch_size, shuffle=False, num_workers=2)\n",
        "\n",
        "# Instancia o modelo e move para o device\n",
        "model = VGG13(num_classes=10)\n",
        "model.to(device)\n",
        "\n",
        "# Define a função de perda e o otimizador\n",
        "# Se optar por manter a camada Softmax final, talvez seja necessário usar outra loss,\n",
        "# mas o mais comum é remover a Softmax e usar nn.CrossEntropyLoss.\n",
        "criterion = nn.CrossEntropyLoss()\n",
        "optimizer = optim.Adam(model.parameters(), lr=learning_rate)\n",
        "\n",
        "best_test_acc = 0.0\n",
        "for epoch in range(1, num_epochs + 1):\n",
        "    train_loss, train_acc = train(model, device, train_loader, optimizer, criterion, epoch)\n",
        "    test_loss, test_acc = evaluate(model, device, test_loader, criterion)\n",
        "    if test_acc > best_test_acc:\n",
        "        best_test_acc = test_acc\n",
        "        # Salva o modelo com melhor desempenho\n",
        "        torch.save(model.state_dict(), \"best_alexnet_cifar10.pth\")\n",
        "print(\"Melhor acurácia no teste: {:.2f}%\".format(best_test_acc))\n"
      ]
    },
    {
      "cell_type": "code",
      "execution_count": null,
      "metadata": {},
      "outputs": [
        {
          "name": "stdout",
          "output_type": "stream",
          "text": [
            "Tempo de execução: 0.0082 segundos\n"
          ]
        }
      ],
      "source": [
        "# import time\n",
        "\n",
        "# # device = torch.device(\"cuda\" if torch.cuda.is_available() else \"cpu\")\n",
        "# device = torch.device(\"cuda\")\n",
        "# # device = torch.device(\"cpu\")\n",
        "\n",
        "# # Modelo simples\n",
        "# model = torch.nn.Linear(1000, 1000).to(device)\n",
        "# data = torch.randn(10000, 1000).to(device)\n",
        "\n",
        "# # Teste de tempo na GPU\n",
        "# start = time.time()\n",
        "# for _ in range(100):\n",
        "#     output = model(data)\n",
        "# end = time.time()\n",
        "\n",
        "# print(f\"Tempo de execução: {end - start:.4f} segundos\")"
      ]
    }
  ],
  "metadata": {
    "accelerator": "GPU",
    "colab": {
      "gpuType": "T4",
      "provenance": []
    },
    "kernelspec": {
      "display_name": "venv",
      "language": "python",
      "name": "python3"
    },
    "language_info": {
      "codemirror_mode": {
        "name": "ipython",
        "version": 3
      },
      "file_extension": ".py",
      "mimetype": "text/x-python",
      "name": "python",
      "nbconvert_exporter": "python",
      "pygments_lexer": "ipython3",
      "version": "3.12.3"
    }
  },
  "nbformat": 4,
  "nbformat_minor": 0
}
